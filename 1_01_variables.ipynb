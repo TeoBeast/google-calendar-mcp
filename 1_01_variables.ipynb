{
  "cells": [
    {
      "cell_type": "markdown",
      "metadata": {
        "id": "view-in-github",
        "colab_type": "text"
      },
      "source": [
        "<a href=\"https://colab.research.google.com/github/TeoBeast/google-calendar-mcp/blob/main/1_01_variables.ipynb\" target=\"_parent\"><img src=\"https://colab.research.google.com/assets/colab-badge.svg\" alt=\"Open In Colab\"/></a>"
      ]
    },
    {
      "cell_type": "markdown",
      "source": [
        "![](https://drive.google.com/uc?export=view&id=1xqQczl0FG-qtNA2_WQYuWePW9oU8irqJ)"
      ],
      "metadata": {
        "id": "bf_IaomU2HR1"
      },
      "id": "bf_IaomU2HR1"
    },
    {
      "cell_type": "markdown",
      "id": "10551216",
      "metadata": {
        "id": "10551216"
      },
      "source": [
        "# 1.01 Variables"
      ]
    },
    {
      "cell_type": "markdown",
      "id": "68ab95d4",
      "metadata": {
        "id": "68ab95d4"
      },
      "source": [
        "## What is a Variable?\n",
        "\n",
        "A __variable__ is a value which can change either based on our input or based on the running of the program. It is effectively a temporary store of some value that we intend to use. This temporary storage of data, allows us to keep useful data for later use, while also giving us an easy point of reference if we need to make changes to that information, using variables also makes our code more organised and readable which is always a good thing."
      ]
    },
    {
      "cell_type": "markdown",
      "id": "fe8d0607",
      "metadata": {
        "id": "fe8d0607"
      },
      "source": [
        "## Variable Assignment\n",
        "\n",
        "A variable is generally a simple pair of a variable name and a value being stored, this attachment of data to a label (variable name) is called variable assignment. In Python we assign a variable using the equals (=) symbol."
      ]
    },
    {
      "cell_type": "code",
      "execution_count": 7,
      "id": "67bfdecc",
      "metadata": {
        "id": "67bfdecc"
      },
      "outputs": [],
      "source": [
        "dsga_teachers = 2"
      ]
    },
    {
      "cell_type": "code",
      "execution_count": 8,
      "id": "c429f54e",
      "metadata": {
        "id": "c429f54e",
        "colab": {
          "base_uri": "https://localhost:8080/"
        },
        "outputId": "cf9551d2-775c-44d0-dc64-4d76f24b40b2"
      },
      "outputs": [
        {
          "output_type": "execute_result",
          "data": {
            "text/plain": [
              "2"
            ]
          },
          "metadata": {},
          "execution_count": 8
        }
      ],
      "source": [
        "dsga_teachers"
      ]
    },
    {
      "cell_type": "code",
      "execution_count": 9,
      "id": "40d019b7",
      "metadata": {
        "id": "40d019b7",
        "colab": {
          "base_uri": "https://localhost:8080/"
        },
        "outputId": "66f4c5ee-f070-4eee-8e90-294b25ca4ff1"
      },
      "outputs": [
        {
          "output_type": "execute_result",
          "data": {
            "text/plain": [
              "int"
            ]
          },
          "metadata": {},
          "execution_count": 9
        }
      ],
      "source": [
        "type(dsga_teachers)"
      ]
    },
    {
      "cell_type": "markdown",
      "source": [
        "_Note we used the __type()__ function to display the type of data assigned to the dsga_teachers label. The response tells us it is an __int__ (for \"integer\" - a whole number)._"
      ],
      "metadata": {
        "id": "9VSQyV1N3Qo0"
      },
      "id": "9VSQyV1N3Qo0"
    },
    {
      "cell_type": "markdown",
      "id": "58e6d326",
      "metadata": {
        "id": "58e6d326"
      },
      "source": [
        "## Variable Reassignment\n",
        "\n",
        "In the above code we created a variable called cmle_teachers and assigned it the __integer__ value of two. As the name suggests a variable can be changed, this can be achieved by reassigning a new value to an already created variable, causing Python to overwrite the previous data with new data."
      ]
    },
    {
      "cell_type": "code",
      "execution_count": 10,
      "id": "fc4670b8",
      "metadata": {
        "id": "fc4670b8"
      },
      "outputs": [],
      "source": [
        "dsga_teachers = [\"Michael\", \"Jordan\"]"
      ]
    },
    {
      "cell_type": "code",
      "execution_count": 11,
      "id": "be76eef2",
      "metadata": {
        "id": "be76eef2",
        "colab": {
          "base_uri": "https://localhost:8080/"
        },
        "outputId": "64373315-2c49-44b8-c331-5e8fde58527e"
      },
      "outputs": [
        {
          "output_type": "execute_result",
          "data": {
            "text/plain": [
              "['Michael', 'Jordan']"
            ]
          },
          "metadata": {},
          "execution_count": 11
        }
      ],
      "source": [
        "dsga_teachers"
      ]
    },
    {
      "cell_type": "code",
      "execution_count": 12,
      "id": "acc7a3bf",
      "metadata": {
        "id": "acc7a3bf",
        "colab": {
          "base_uri": "https://localhost:8080/"
        },
        "outputId": "433126fb-0e82-450f-f914-d4af9321f54a"
      },
      "outputs": [
        {
          "output_type": "execute_result",
          "data": {
            "text/plain": [
              "list"
            ]
          },
          "metadata": {},
          "execution_count": 12
        }
      ],
      "source": [
        "type(dsga_teachers)"
      ]
    },
    {
      "cell_type": "markdown",
      "id": "2ad9e373",
      "metadata": {
        "id": "2ad9e373"
      },
      "source": [
        "## Constants\n",
        "\n",
        "There is a type of variable called a __constant__, which, as the name suggest remains the same for the entirety of the program, unlike other programming languages Python does not support a constant type. If you see a variable name in all capitals, this is the programmer's way of telling you to treat this variable as a constant and make no changes to it."
      ]
    },
    {
      "cell_type": "markdown",
      "id": "356c54e1",
      "metadata": {
        "id": "356c54e1"
      },
      "source": [
        "## Data Types\n",
        "\n",
        "In the code above you can see when we intially declared the *dsga_teachers* variable and assigned it the value of 2, it was of type int. When we reassigned it the value \\[\"Michael\", \"Jordan\"\\] it returned type list.\n",
        "\n",
        "Common data types you will see are:\n",
        "- int (integer)\n",
        "- float (floating point / decimal)\n",
        "- str (string ... text)\n",
        "- bool (boolean ... __True__ or __False__)\n",
        "- list\n",
        "- tuple\n",
        "- set\n",
        "- dict (dictionary)\n",
        "\n",
        "We have already established that variables can change, in our above example we reassigned our variable from the integer 2 to a list containing two strings. The ability to reassign a variable to a different data type is not universal among programming languages. In some programming languages you have to declare a data type for your variable before assigning the corresponding value to it, in Python however, this step is not necessary and you can assign a data type to a variable without declaring it and even reassign that variable to a completely different data type. Python is able to do this because it is a __dynamically typed__ language as opposed to a __statically typed__ language (such as C or Java).\n",
        "\n",
        "_Note: The ability to do this trades off programmer's time with processor efficiency. It is more efficient for a programmer to have dynamically typed variables where the type can change as required and the type does not need to be explictly stated in the code. It is more efficient for the computer to be told the type than have to infer it from the data being passed. I.e. dynamically typed languages like Python are quicker to code in, statically typed languages like Jave (generally) run faster._  "
      ]
    },
    {
      "cell_type": "markdown",
      "id": "ac553d86",
      "metadata": {
        "id": "ac553d86"
      },
      "source": [
        "## Naming Your Variables\n",
        "\n",
        "There are a few __syntax__ rules for naming your variables you need to be aware of. Failure to adhere to these rules will cause a syntax error and your program being unable to execute. Besides syntax rules, to keep your code consistent and more readable for you and other programmers, there are a few guidelines you should follow. Failure to adhere to these guidelines will not raise an error or impede the program in its execution.\n",
        "\n",
        "The following syntax rules **MUST** be adhered to when naming your varaibles:\n",
        "- A variable name cannot include anything that is not a letter, number or an underscore.\n",
        "- Although a variable name can include numbers, it cannot start with a number.\n",
        "- Variable names cannot include spaces.\n",
        "\n",
        "The following guidelines should be adhered to when naming your variables:\n",
        "- Avoid using Python keywords or __function__ names. (More on this later, but for now, if your variable name triggers some form of __syntax highlighting__ (e.g. font colour change), it is most likely a word reserved by Python for some purpose.)\n",
        "- Separate variable names containing multiple words using underscores. Another method (although not recommended) is capitalising the first letter of each word (Known as CamelCase) or each subsequent word (known as mixedCase).\n",
        " - **DO THIS**: *my_variable_name* **NOT THAT**: *MyVariableName*, *myVariableName*\n",
        "- Variable names should be short but descriptive enough for others to easily identify what it is.\n",
        " - **DO THIS**: *student_number* **NOT THAT**: *stu_num*, *s_n*\n",
        "\n",
        "The full Python __style guide__ regarding naming styles can be found here: [PEP 8](https://www.python.org/dev/peps/pep-0008/#naming-conventions)."
      ]
    },
    {
      "cell_type": "code",
      "execution_count": 12,
      "id": "39622172",
      "metadata": {
        "id": "39622172"
      },
      "outputs": [],
      "source": []
    }
  ],
  "metadata": {
    "kernelspec": {
      "display_name": "Python 3 (ipykernel)",
      "language": "python",
      "name": "python3"
    },
    "language_info": {
      "codemirror_mode": {
        "name": "ipython",
        "version": 3
      },
      "file_extension": ".py",
      "mimetype": "text/x-python",
      "name": "python",
      "nbconvert_exporter": "python",
      "pygments_lexer": "ipython3",
      "version": "3.8.8"
    },
    "colab": {
      "provenance": [],
      "include_colab_link": true
    }
  },
  "nbformat": 4,
  "nbformat_minor": 5
}